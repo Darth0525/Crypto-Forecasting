{
  "nbformat": 4,
  "nbformat_minor": 0,
  "metadata": {
    "colab": {
      "name": "GResearch_CryptoForecast.ipynb",
      "provenance": [],
      "collapsed_sections": []
    },
    "kernelspec": {
      "name": "python3",
      "display_name": "Python 3"
    },
    "language_info": {
      "name": "python"
    }
  },
  "cells": [
    {
      "cell_type": "markdown",
      "metadata": {
        "id": "MRlmGPQMW0G1"
      },
      "source": [
        "# Introduction\n",
        "Building a model for the G Research Crypto Forecasting competition on Kaggle"
      ]
    },
    {
      "cell_type": "markdown",
      "metadata": {
        "id": "LZfvl1B6XYbj"
      },
      "source": [
        "# EDA\n",
        "Starting with going through the various datasets that have made available to us"
      ]
    },
    {
      "cell_type": "code",
      "metadata": {
        "id": "djDRkagOXXy-"
      },
      "source": [
        ""
      ],
      "execution_count": null,
      "outputs": []
    }
  ]
}